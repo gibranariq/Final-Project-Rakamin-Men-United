{
 "cells": [
  {
   "cell_type": "code",
   "execution_count": 2,
   "metadata": {},
   "outputs": [],
   "source": [
    "# 1) Generate dummy prediction input from the uploaded DataFrame_processed\n",
    "import pandas as pd\n",
    "import numpy as np\n",
    "from pathlib import Path\n",
    "\n",
    "schema_path = Path(\"/Users/gibranariq/Documents/Final-Project-Rakamin-Men-United/DataFrame_processed/DataFrame_processed.csv\")\n",
    "dummy_out = 'dummy_data.csv'\n",
    "\n",
    "df_schema = pd.read_csv(schema_path)\n",
    "\n",
    "# Drop common target columns if present\n",
    "target_cols = [c for c in df_schema.columns if c.lower() in (\"attrition\",\"target\")]\n",
    "X_schema = df_schema.drop(columns=target_cols, errors=\"ignore\")\n",
    "\n",
    "# Create 100-row dummy by sampling (with replacement if needed)\n",
    "n = 100\n",
    "if len(X_schema) >= n:\n",
    "    dummy_df = X_schema.sample(n=n, random_state=42).reset_index(drop=True)\n",
    "else:\n",
    "    # If schema has fewer rows, sample with replacement\n",
    "    dummy_df = X_schema.sample(n=n, replace=True, random_state=42).reset_index(drop=True)\n",
    "\n",
    "dummy_df.to_csv(dummy_out, index=False)\n"
   ]
  },
  {
   "cell_type": "code",
   "execution_count": null,
   "metadata": {},
   "outputs": [],
   "source": []
  }
 ],
 "metadata": {
  "kernelspec": {
   "display_name": "Python 3",
   "language": "python",
   "name": "python3"
  },
  "language_info": {
   "codemirror_mode": {
    "name": "ipython",
    "version": 3
   },
   "file_extension": ".py",
   "mimetype": "text/x-python",
   "name": "python",
   "nbconvert_exporter": "python",
   "pygments_lexer": "ipython3",
   "version": "3.11.9"
  }
 },
 "nbformat": 4,
 "nbformat_minor": 2
}
