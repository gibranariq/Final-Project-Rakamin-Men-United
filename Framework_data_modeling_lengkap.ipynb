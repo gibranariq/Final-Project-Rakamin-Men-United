{
  "cells": [
    {
      "cell_type": "markdown",
      "id": "a9ec534c-704a-491e-a480-e88818382fe8",
      "metadata": {
        "id": "a9ec534c-704a-491e-a480-e88818382fe8"
      },
      "source": [
        "# **TITLE**"
      ]
    },
    {
      "cell_type": "markdown",
      "id": "b5a7a2a2-9bf4-4bb9-a38f-d820ce03a3d7",
      "metadata": {
        "id": "b5a7a2a2-9bf4-4bb9-a38f-d820ce03a3d7"
      },
      "source": [
        "## **Import Library**"
      ]
    },
    {
      "cell_type": "code",
      "source": [
        "import warnings\n",
        "warnings.filterwarnings('ignore')\n",
        "\n",
        "import numpy as np\n",
        "import pandas as pd\n",
        "import seaborn as sns\n",
        "import matplotlib.pyplot as plt\n",
        "%matplotlib inline\n",
        "\n",
        "import sklearn\n",
        "from sklearn.model_selection import train_test_split\n",
        "from sklearn.preprocessing import FunctionTransformer, StandardScaler, MinMaxScaler, OrdinalEncoder, OneHotEncoder\n",
        "from sklearn.impute import SimpleImputer\n",
        "from sklearn.compose import ColumnTransformer\n",
        "from sklearn.pipeline import Pipeline\n",
        "\n",
        "from scipy import stats\n",
        "from scipy.stats import zscore\n",
        "from imblearn.over_sampling import SMOTE"
      ],
      "metadata": {
        "id": "9NGn2FHKnDyS"
      },
      "id": "9NGn2FHKnDyS",
      "execution_count": 1,
      "outputs": []
    },
    {
      "cell_type": "markdown",
      "id": "e8095b38-5983-4967-adfa-5e6fd8e8be20",
      "metadata": {
        "id": "e8095b38-5983-4967-adfa-5e6fd8e8be20"
      },
      "source": [
        "## **Import Data**"
      ]
    },
    {
      "cell_type": "code",
      "source": [
        "df = pd.read_csv('IBM Attrition.csv')"
      ],
      "metadata": {
        "id": "yi9RyFdWnKqt"
      },
      "id": "yi9RyFdWnKqt",
      "execution_count": 2,
      "outputs": []
    },
    {
      "cell_type": "markdown",
      "source": [
        "### Data Type Check (David)\n"
      ],
      "metadata": {
        "id": "i-I_H9lbn4Yz"
      },
      "id": "i-I_H9lbn4Yz"
    },
    {
      "cell_type": "markdown",
      "id": "0f21eb7b-1f4d-4f45-b33d-ea9c5bb2f0a8",
      "metadata": {
        "id": "0f21eb7b-1f4d-4f45-b33d-ea9c5bb2f0a8"
      },
      "source": [
        "### Duplicates Handling (David)"
      ]
    },
    {
      "cell_type": "markdown",
      "id": "d1c19d67-d067-4de1-a48a-0d633e053f38",
      "metadata": {
        "id": "d1c19d67-d067-4de1-a48a-0d633e053f38"
      },
      "source": [
        "### Missing Values Handling (Reza)"
      ]
    },
    {
      "cell_type": "markdown",
      "id": "b2d1c95f-95c2-4e98-9e4b-f2333214e736",
      "metadata": {
        "jp-MarkdownHeadingCollapsed": true,
        "id": "b2d1c95f-95c2-4e98-9e4b-f2333214e736"
      },
      "source": [
        "## **Data Understanding / EDA**"
      ]
    },
    {
      "cell_type": "markdown",
      "id": "63c038a3-02aa-4745-b1e6-90bc3d3ce51b",
      "metadata": {
        "id": "63c038a3-02aa-4745-b1e6-90bc3d3ce51b"
      },
      "source": [
        "### Descriptive Statistics (Reza)"
      ]
    },
    {
      "cell_type": "markdown",
      "id": "57f99bd0-6f5b-49b1-96a0-a455572ff0a7",
      "metadata": {
        "id": "57f99bd0-6f5b-49b1-96a0-a455572ff0a7"
      },
      "source": [
        "### Univariate Analysis (Reza)"
      ]
    },
    {
      "cell_type": "markdown",
      "id": "13cd4322-2653-4967-92c6-8ec4a09120c0",
      "metadata": {
        "id": "13cd4322-2653-4967-92c6-8ec4a09120c0"
      },
      "source": [
        "### Multivariate Analysis (Reza)"
      ]
    },
    {
      "cell_type": "markdown",
      "source": [
        "### Feature Selection (Gibran)"
      ],
      "metadata": {
        "id": "JQ0Kn-X1o5rJ"
      },
      "id": "JQ0Kn-X1o5rJ"
    },
    {
      "cell_type": "markdown",
      "source": [
        "### Feature Engineering (Gibran)"
      ],
      "metadata": {
        "id": "NvkzbTDGpIm-"
      },
      "id": "NvkzbTDGpIm-"
    },
    {
      "cell_type": "markdown",
      "id": "e9732dc0-3308-45a8-bbda-7af3747f9658",
      "metadata": {
        "id": "e9732dc0-3308-45a8-bbda-7af3747f9658"
      },
      "source": [
        "## **Data Preparation / Preprocessing**"
      ]
    },
    {
      "cell_type": "markdown",
      "id": "a107e50d-a25e-4da5-b719-3f0d52b25954",
      "metadata": {
        "id": "a107e50d-a25e-4da5-b719-3f0d52b25954"
      },
      "source": [
        "### Data Splitting (Erick)"
      ]
    },
    {
      "cell_type": "markdown",
      "id": "fc915526-a64d-41ac-a9db-b4477f4f8641",
      "metadata": {
        "id": "fc915526-a64d-41ac-a9db-b4477f4f8641"
      },
      "source": [
        "### Outlier Handling (Erick)"
      ]
    },
    {
      "cell_type": "markdown",
      "id": "9a223f42-22be-477b-91db-9f770d03f36a",
      "metadata": {
        "jp-MarkdownHeadingCollapsed": true,
        "id": "9a223f42-22be-477b-91db-9f770d03f36a"
      },
      "source": [
        "### Transformasi (Erick)"
      ]
    },
    {
      "cell_type": "markdown",
      "id": "3229f9d6-562d-4d08-a7d3-71863d0d206c",
      "metadata": {
        "id": "3229f9d6-562d-4d08-a7d3-71863d0d206c"
      },
      "source": [
        "#### *Log Transform*"
      ]
    },
    {
      "cell_type": "markdown",
      "id": "70c5653e-085e-40b6-ab67-78223b023a53",
      "metadata": {
        "id": "70c5653e-085e-40b6-ab67-78223b023a53"
      },
      "source": [
        "#### *Standardize*"
      ]
    },
    {
      "cell_type": "markdown",
      "id": "e3a4a6e1-b325-4fbc-8704-e332ad790cc0",
      "metadata": {
        "id": "e3a4a6e1-b325-4fbc-8704-e332ad790cc0"
      },
      "source": [
        "#### *Normalize*"
      ]
    },
    {
      "cell_type": "markdown",
      "id": "0d16df6d-dc82-4719-8797-fa1ea2417ecd",
      "metadata": {
        "id": "0d16df6d-dc82-4719-8797-fa1ea2417ecd"
      },
      "source": [
        "### Encoding (Bila Perlu) (Erick)"
      ]
    },
    {
      "cell_type": "markdown",
      "id": "7211f248-bb45-471a-9d0c-77a8eaaf6771",
      "metadata": {
        "id": "7211f248-bb45-471a-9d0c-77a8eaaf6771"
      },
      "source": [
        "### Preprocessing Pipeline (Perlu Discusi dengan Mentor)"
      ]
    },
    {
      "cell_type": "markdown",
      "id": "661e63ba-0809-4775-a7e2-9904a274bd96",
      "metadata": {
        "id": "661e63ba-0809-4775-a7e2-9904a274bd96"
      },
      "source": [
        "### Imbalance Handling (Hanay data Train) (Erick)"
      ]
    },
    {
      "cell_type": "markdown",
      "id": "8bd65896-22a0-499f-8a87-fbc66ee2fce1",
      "metadata": {
        "id": "8bd65896-22a0-499f-8a87-fbc66ee2fce1"
      },
      "source": [
        "## Modeling"
      ]
    },
    {
      "cell_type": "markdown",
      "id": "6dc7ce16-c6a8-4a5d-97f7-164502e8f648",
      "metadata": {
        "id": "6dc7ce16-c6a8-4a5d-97f7-164502e8f648"
      },
      "source": [
        "### Library For Modeling"
      ]
    },
    {
      "cell_type": "markdown",
      "id": "c0a0350d-1ba6-4696-8ae2-6ab354d510fc",
      "metadata": {
        "id": "c0a0350d-1ba6-4696-8ae2-6ab354d510fc"
      },
      "source": [
        "### Train (.fit) And Predict (.predict) Baseline Model"
      ]
    },
    {
      "cell_type": "markdown",
      "id": "32229a0a-e5df-4e7d-854a-acb8cd9676f8",
      "metadata": {
        "id": "32229a0a-e5df-4e7d-854a-acb8cd9676f8"
      },
      "source": [
        "### Hyperparameter Tunning"
      ]
    },
    {
      "cell_type": "markdown",
      "id": "0b60bc2c-f35c-43e9-9e80-b39a2088c9f5",
      "metadata": {
        "id": "0b60bc2c-f35c-43e9-9e80-b39a2088c9f5"
      },
      "source": [
        "### Final Model"
      ]
    },
    {
      "cell_type": "markdown",
      "id": "985d8160-b978-4974-b632-880e60ebb1e1",
      "metadata": {
        "id": "985d8160-b978-4974-b632-880e60ebb1e1"
      },
      "source": [
        "## Model Evaluation"
      ]
    },
    {
      "cell_type": "markdown",
      "id": "6b5dedea-f774-4704-aa43-92e9c319c4e1",
      "metadata": {
        "id": "6b5dedea-f774-4704-aa43-92e9c319c4e1"
      },
      "source": [
        "### Test the Prediction of Final Model"
      ]
    },
    {
      "cell_type": "markdown",
      "id": "dc287dec-78a2-4d67-ac7d-7178135f3f6d",
      "metadata": {
        "id": "dc287dec-78a2-4d67-ac7d-7178135f3f6d"
      },
      "source": [
        "### Evaluation Metrics"
      ]
    },
    {
      "cell_type": "markdown",
      "id": "7b74967e-9211-41cc-aec7-7936d398dea1",
      "metadata": {
        "id": "7b74967e-9211-41cc-aec7-7936d398dea1"
      },
      "source": [
        "### Visualitasion Actual vs Prediction (if needed)"
      ]
    },
    {
      "cell_type": "code",
      "execution_count": null,
      "id": "832070e9-f2d1-4a8f-9159-8f83997aef41",
      "metadata": {
        "id": "832070e9-f2d1-4a8f-9159-8f83997aef41"
      },
      "outputs": [],
      "source": []
    }
  ],
  "metadata": {
    "kernelspec": {
      "display_name": "Python [conda env:base] *",
      "language": "python",
      "name": "conda-base-py"
    },
    "language_info": {
      "codemirror_mode": {
        "name": "ipython",
        "version": 3
      },
      "file_extension": ".py",
      "mimetype": "text/x-python",
      "name": "python",
      "nbconvert_exporter": "python",
      "pygments_lexer": "ipython3",
      "version": "3.12.7"
    },
    "colab": {
      "provenance": []
    }
  },
  "nbformat": 4,
  "nbformat_minor": 5
}