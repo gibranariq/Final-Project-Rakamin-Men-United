{
 "cells": [
  {
   "cell_type": "markdown",
   "id": "a9ec534c-704a-491e-a480-e88818382fe8",
   "metadata": {
    "id": "a9ec534c-704a-491e-a480-e88818382fe8"
   },
   "source": [
    "# **TITLE**"
   ]
  },
  {
   "cell_type": "markdown",
   "id": "b5a7a2a2-9bf4-4bb9-a38f-d820ce03a3d7",
   "metadata": {
    "id": "b5a7a2a2-9bf4-4bb9-a38f-d820ce03a3d7"
   },
   "source": [
    "## **Import Library**"
   ]
  },
  {
   "cell_type": "code",
   "execution_count": 3,
   "id": "9NGn2FHKnDyS",
   "metadata": {
    "id": "9NGn2FHKnDyS"
   },
   "outputs": [],
   "source": [
    "import warnings\n",
    "warnings.filterwarnings('ignore')\n",
    "\n",
    "import numpy as np\n",
    "import pandas as pd\n",
    "import seaborn as sns\n",
    "import matplotlib.pyplot as plt\n",
    "%matplotlib inline\n",
    "\n",
    "import sklearn\n",
    "from sklearn.model_selection import train_test_split\n",
    "from sklearn.preprocessing import FunctionTransformer, StandardScaler, MinMaxScaler, OrdinalEncoder, OneHotEncoder\n",
    "from sklearn.impute import SimpleImputer\n",
    "from sklearn.compose import ColumnTransformer\n",
    "from sklearn.pipeline import Pipeline\n",
    "\n",
    "from scipy import stats\n",
    "from scipy.stats import zscore\n",
    "from imblearn.over_sampling import SMOTE"
   ]
  },
  {
   "cell_type": "markdown",
   "id": "e8095b38-5983-4967-adfa-5e6fd8e8be20",
   "metadata": {
    "id": "e8095b38-5983-4967-adfa-5e6fd8e8be20"
   },
   "source": [
    "## **Import Data**"
   ]
  },
  {
   "cell_type": "code",
   "execution_count": 5,
   "id": "yi9RyFdWnKqt",
   "metadata": {
    "id": "yi9RyFdWnKqt"
   },
   "outputs": [],
   "source": [
    "df = pd.read_csv('ibm data.csv')"
   ]
  },
  {
   "cell_type": "markdown",
   "id": "i-I_H9lbn4Yz",
   "metadata": {
    "id": "i-I_H9lbn4Yz"
   },
   "source": [
    "### Data Type Check (David)\n"
   ]
  },
  {
   "cell_type": "code",
   "execution_count": 13,
   "id": "9c15e48c-649b-4447-9cfb-497da5da32f9",
   "metadata": {},
   "outputs": [
    {
     "data": {
      "text/html": [
       "<div>\n",
       "<style scoped>\n",
       "    .dataframe tbody tr th:only-of-type {\n",
       "        vertical-align: middle;\n",
       "    }\n",
       "\n",
       "    .dataframe tbody tr th {\n",
       "        vertical-align: top;\n",
       "    }\n",
       "\n",
       "    .dataframe thead th {\n",
       "        text-align: right;\n",
       "    }\n",
       "</style>\n",
       "<table border=\"1\" class=\"dataframe\">\n",
       "  <thead>\n",
       "    <tr style=\"text-align: right;\">\n",
       "      <th></th>\n",
       "      <th>Age</th>\n",
       "      <th>Attrition</th>\n",
       "      <th>BusinessTravel</th>\n",
       "      <th>DailyRate</th>\n",
       "      <th>Department</th>\n",
       "      <th>DistanceFromHome</th>\n",
       "      <th>Education</th>\n",
       "      <th>EducationField</th>\n",
       "      <th>EmployeeCount</th>\n",
       "      <th>EmployeeNumber</th>\n",
       "      <th>...</th>\n",
       "      <th>RelationshipSatisfaction</th>\n",
       "      <th>StandardHours</th>\n",
       "      <th>StockOptionLevel</th>\n",
       "      <th>TotalWorkingYears</th>\n",
       "      <th>TrainingTimesLastYear</th>\n",
       "      <th>WorkLifeBalance</th>\n",
       "      <th>YearsAtCompany</th>\n",
       "      <th>YearsInCurrentRole</th>\n",
       "      <th>YearsSinceLastPromotion</th>\n",
       "      <th>YearsWithCurrManager</th>\n",
       "    </tr>\n",
       "  </thead>\n",
       "  <tbody>\n",
       "    <tr>\n",
       "      <th>1383</th>\n",
       "      <td>36</td>\n",
       "      <td>No</td>\n",
       "      <td>Non-Travel</td>\n",
       "      <td>1351</td>\n",
       "      <td>Research &amp; Development</td>\n",
       "      <td>9</td>\n",
       "      <td>4</td>\n",
       "      <td>Life Sciences</td>\n",
       "      <td>1</td>\n",
       "      <td>1949</td>\n",
       "      <td>...</td>\n",
       "      <td>2</td>\n",
       "      <td>80</td>\n",
       "      <td>0</td>\n",
       "      <td>5</td>\n",
       "      <td>3</td>\n",
       "      <td>3</td>\n",
       "      <td>5</td>\n",
       "      <td>4</td>\n",
       "      <td>0</td>\n",
       "      <td>2</td>\n",
       "    </tr>\n",
       "    <tr>\n",
       "      <th>54</th>\n",
       "      <td>26</td>\n",
       "      <td>No</td>\n",
       "      <td>Travel_Rarely</td>\n",
       "      <td>1443</td>\n",
       "      <td>Sales</td>\n",
       "      <td>23</td>\n",
       "      <td>3</td>\n",
       "      <td>Marketing</td>\n",
       "      <td>1</td>\n",
       "      <td>72</td>\n",
       "      <td>...</td>\n",
       "      <td>3</td>\n",
       "      <td>80</td>\n",
       "      <td>1</td>\n",
       "      <td>5</td>\n",
       "      <td>2</td>\n",
       "      <td>2</td>\n",
       "      <td>2</td>\n",
       "      <td>2</td>\n",
       "      <td>0</td>\n",
       "      <td>0</td>\n",
       "    </tr>\n",
       "    <tr>\n",
       "      <th>9</th>\n",
       "      <td>36</td>\n",
       "      <td>No</td>\n",
       "      <td>Travel_Rarely</td>\n",
       "      <td>1299</td>\n",
       "      <td>Research &amp; Development</td>\n",
       "      <td>27</td>\n",
       "      <td>3</td>\n",
       "      <td>Medical</td>\n",
       "      <td>1</td>\n",
       "      <td>13</td>\n",
       "      <td>...</td>\n",
       "      <td>2</td>\n",
       "      <td>80</td>\n",
       "      <td>2</td>\n",
       "      <td>17</td>\n",
       "      <td>3</td>\n",
       "      <td>2</td>\n",
       "      <td>7</td>\n",
       "      <td>7</td>\n",
       "      <td>7</td>\n",
       "      <td>7</td>\n",
       "    </tr>\n",
       "    <tr>\n",
       "      <th>447</th>\n",
       "      <td>35</td>\n",
       "      <td>No</td>\n",
       "      <td>Travel_Rarely</td>\n",
       "      <td>619</td>\n",
       "      <td>Sales</td>\n",
       "      <td>1</td>\n",
       "      <td>3</td>\n",
       "      <td>Marketing</td>\n",
       "      <td>1</td>\n",
       "      <td>600</td>\n",
       "      <td>...</td>\n",
       "      <td>3</td>\n",
       "      <td>80</td>\n",
       "      <td>0</td>\n",
       "      <td>15</td>\n",
       "      <td>2</td>\n",
       "      <td>3</td>\n",
       "      <td>11</td>\n",
       "      <td>9</td>\n",
       "      <td>6</td>\n",
       "      <td>9</td>\n",
       "    </tr>\n",
       "    <tr>\n",
       "      <th>828</th>\n",
       "      <td>18</td>\n",
       "      <td>Yes</td>\n",
       "      <td>Non-Travel</td>\n",
       "      <td>247</td>\n",
       "      <td>Research &amp; Development</td>\n",
       "      <td>8</td>\n",
       "      <td>1</td>\n",
       "      <td>Medical</td>\n",
       "      <td>1</td>\n",
       "      <td>1156</td>\n",
       "      <td>...</td>\n",
       "      <td>4</td>\n",
       "      <td>80</td>\n",
       "      <td>0</td>\n",
       "      <td>0</td>\n",
       "      <td>0</td>\n",
       "      <td>3</td>\n",
       "      <td>0</td>\n",
       "      <td>0</td>\n",
       "      <td>0</td>\n",
       "      <td>0</td>\n",
       "    </tr>\n",
       "  </tbody>\n",
       "</table>\n",
       "<p>5 rows × 35 columns</p>\n",
       "</div>"
      ],
      "text/plain": [
       "      Age Attrition BusinessTravel  DailyRate              Department  \\\n",
       "1383   36        No     Non-Travel       1351  Research & Development   \n",
       "54     26        No  Travel_Rarely       1443                   Sales   \n",
       "9      36        No  Travel_Rarely       1299  Research & Development   \n",
       "447    35        No  Travel_Rarely        619                   Sales   \n",
       "828    18       Yes     Non-Travel        247  Research & Development   \n",
       "\n",
       "      DistanceFromHome  Education EducationField  EmployeeCount  \\\n",
       "1383                 9          4  Life Sciences              1   \n",
       "54                  23          3      Marketing              1   \n",
       "9                   27          3        Medical              1   \n",
       "447                  1          3      Marketing              1   \n",
       "828                  8          1        Medical              1   \n",
       "\n",
       "      EmployeeNumber  ...  RelationshipSatisfaction StandardHours  \\\n",
       "1383            1949  ...                         2            80   \n",
       "54                72  ...                         3            80   \n",
       "9                 13  ...                         2            80   \n",
       "447              600  ...                         3            80   \n",
       "828             1156  ...                         4            80   \n",
       "\n",
       "      StockOptionLevel  TotalWorkingYears  TrainingTimesLastYear  \\\n",
       "1383                 0                  5                      3   \n",
       "54                   1                  5                      2   \n",
       "9                    2                 17                      3   \n",
       "447                  0                 15                      2   \n",
       "828                  0                  0                      0   \n",
       "\n",
       "     WorkLifeBalance  YearsAtCompany YearsInCurrentRole  \\\n",
       "1383               3               5                  4   \n",
       "54                 2               2                  2   \n",
       "9                  2               7                  7   \n",
       "447                3              11                  9   \n",
       "828                3               0                  0   \n",
       "\n",
       "      YearsSinceLastPromotion  YearsWithCurrManager  \n",
       "1383                        0                     2  \n",
       "54                          0                     0  \n",
       "9                           7                     7  \n",
       "447                         6                     9  \n",
       "828                         0                     0  \n",
       "\n",
       "[5 rows x 35 columns]"
      ]
     },
     "execution_count": 13,
     "metadata": {},
     "output_type": "execute_result"
    }
   ],
   "source": [
    "df.sample(5)"
   ]
  },
  {
   "cell_type": "code",
   "execution_count": 11,
   "id": "bb054051-6068-495c-885f-77bc1e38f6f8",
   "metadata": {},
   "outputs": [
    {
     "name": "stdout",
     "output_type": "stream",
     "text": [
      "<class 'pandas.core.frame.DataFrame'>\n",
      "RangeIndex: 1470 entries, 0 to 1469\n",
      "Data columns (total 35 columns):\n",
      " #   Column                    Non-Null Count  Dtype \n",
      "---  ------                    --------------  ----- \n",
      " 0   Age                       1470 non-null   int64 \n",
      " 1   Attrition                 1470 non-null   object\n",
      " 2   BusinessTravel            1470 non-null   object\n",
      " 3   DailyRate                 1470 non-null   int64 \n",
      " 4   Department                1470 non-null   object\n",
      " 5   DistanceFromHome          1470 non-null   int64 \n",
      " 6   Education                 1470 non-null   int64 \n",
      " 7   EducationField            1470 non-null   object\n",
      " 8   EmployeeCount             1470 non-null   int64 \n",
      " 9   EmployeeNumber            1470 non-null   int64 \n",
      " 10  EnvironmentSatisfaction   1470 non-null   int64 \n",
      " 11  Gender                    1470 non-null   object\n",
      " 12  HourlyRate                1470 non-null   int64 \n",
      " 13  JobInvolvement            1470 non-null   int64 \n",
      " 14  JobLevel                  1470 non-null   int64 \n",
      " 15  JobRole                   1470 non-null   object\n",
      " 16  JobSatisfaction           1470 non-null   int64 \n",
      " 17  MaritalStatus             1470 non-null   object\n",
      " 18  MonthlyIncome             1470 non-null   int64 \n",
      " 19  MonthlyRate               1470 non-null   int64 \n",
      " 20  NumCompaniesWorked        1470 non-null   int64 \n",
      " 21  Over18                    1470 non-null   object\n",
      " 22  OverTime                  1470 non-null   object\n",
      " 23  PercentSalaryHike         1470 non-null   int64 \n",
      " 24  PerformanceRating         1470 non-null   int64 \n",
      " 25  RelationshipSatisfaction  1470 non-null   int64 \n",
      " 26  StandardHours             1470 non-null   int64 \n",
      " 27  StockOptionLevel          1470 non-null   int64 \n",
      " 28  TotalWorkingYears         1470 non-null   int64 \n",
      " 29  TrainingTimesLastYear     1470 non-null   int64 \n",
      " 30  WorkLifeBalance           1470 non-null   int64 \n",
      " 31  YearsAtCompany            1470 non-null   int64 \n",
      " 32  YearsInCurrentRole        1470 non-null   int64 \n",
      " 33  YearsSinceLastPromotion   1470 non-null   int64 \n",
      " 34  YearsWithCurrManager      1470 non-null   int64 \n",
      "dtypes: int64(26), object(9)\n",
      "memory usage: 402.1+ KB\n"
     ]
    }
   ],
   "source": [
    "df.info()"
   ]
  },
  {
   "cell_type": "markdown",
   "id": "c7aeda70-9d1d-4267-9002-4aacbfb2d57c",
   "metadata": {},
   "source": [
    "**Note:**  \n",
    "Datatype masing-masing feature sudah sesuai"
   ]
  },
  {
   "cell_type": "markdown",
   "id": "0f21eb7b-1f4d-4f45-b33d-ea9c5bb2f0a8",
   "metadata": {
    "id": "0f21eb7b-1f4d-4f45-b33d-ea9c5bb2f0a8"
   },
   "source": [
    "### Duplicates Handling (David)"
   ]
  },
  {
   "cell_type": "code",
   "execution_count": 22,
   "id": "95733191-7852-46eb-90d5-10d35fe8fdba",
   "metadata": {},
   "outputs": [
    {
     "data": {
      "text/plain": [
       "False"
      ]
     },
     "execution_count": 22,
     "metadata": {},
     "output_type": "execute_result"
    }
   ],
   "source": [
    "df.duplicated().any()"
   ]
  },
  {
   "cell_type": "markdown",
   "id": "38abf16a-2d19-434f-a572-660a15be43d6",
   "metadata": {},
   "source": [
    "**Note:**  \n",
    "Data sudah bersih dari nilai duplikat"
   ]
  },
  {
   "cell_type": "markdown",
   "id": "d1c19d67-d067-4de1-a48a-0d633e053f38",
   "metadata": {
    "id": "d1c19d67-d067-4de1-a48a-0d633e053f38"
   },
   "source": [
    "### Missing Values Handling (Reza)"
   ]
  },
  {
   "cell_type": "markdown",
   "id": "b2d1c95f-95c2-4e98-9e4b-f2333214e736",
   "metadata": {
    "id": "b2d1c95f-95c2-4e98-9e4b-f2333214e736",
    "jp-MarkdownHeadingCollapsed": true
   },
   "source": [
    "## **Data Understanding / EDA**"
   ]
  },
  {
   "cell_type": "markdown",
   "id": "63c038a3-02aa-4745-b1e6-90bc3d3ce51b",
   "metadata": {
    "id": "63c038a3-02aa-4745-b1e6-90bc3d3ce51b"
   },
   "source": [
    "### Descriptive Statistics (Reza)"
   ]
  },
  {
   "cell_type": "markdown",
   "id": "57f99bd0-6f5b-49b1-96a0-a455572ff0a7",
   "metadata": {
    "id": "57f99bd0-6f5b-49b1-96a0-a455572ff0a7"
   },
   "source": [
    "### Univariate Analysis (Reza)"
   ]
  },
  {
   "cell_type": "markdown",
   "id": "13cd4322-2653-4967-92c6-8ec4a09120c0",
   "metadata": {
    "id": "13cd4322-2653-4967-92c6-8ec4a09120c0"
   },
   "source": [
    "### Multivariate Analysis (Reza)"
   ]
  },
  {
   "cell_type": "markdown",
   "id": "JQ0Kn-X1o5rJ",
   "metadata": {
    "id": "JQ0Kn-X1o5rJ"
   },
   "source": [
    "### Feature Selection (Gibran)"
   ]
  },
  {
   "cell_type": "markdown",
   "id": "NvkzbTDGpIm-",
   "metadata": {
    "id": "NvkzbTDGpIm-"
   },
   "source": [
    "### Feature Engineering (Gibran)"
   ]
  },
  {
   "cell_type": "markdown",
   "id": "e9732dc0-3308-45a8-bbda-7af3747f9658",
   "metadata": {
    "id": "e9732dc0-3308-45a8-bbda-7af3747f9658"
   },
   "source": [
    "## **Data Preparation / Preprocessing**"
   ]
  },
  {
   "cell_type": "markdown",
   "id": "a107e50d-a25e-4da5-b719-3f0d52b25954",
   "metadata": {
    "id": "a107e50d-a25e-4da5-b719-3f0d52b25954"
   },
   "source": [
    "### Data Splitting (Erick)"
   ]
  },
  {
   "cell_type": "code",
   "execution_count": null,
   "id": "33fb1e76",
   "metadata": {},
   "outputs": [],
   "source": [
    "X = df.drop('Attrition', axis=1)\n",
    "y = df['Attrition']\n",
    "\n",
    "X_train, X_test, y_train, y_test = train_test_split(X, y, test_size=0.2, random_state=42, stratify=y)\n",
    "\n",
    "print(\"X_train shape:\", X_train.shape)\n",
    "print(\"X_test shape:\", X_test.shape)\n",
    "print(\"y_train shape:\", y_train.shape)\n",
    "print(\"y_test shape:\", y_test.shape)"
   ]
  },
  {
   "cell_type": "markdown",
   "id": "fc915526-a64d-41ac-a9db-b4477f4f8641",
   "metadata": {
    "id": "fc915526-a64d-41ac-a9db-b4477f4f8641"
   },
   "source": [
    "### Outlier Handling (Erick)"
   ]
  },
  {
   "cell_type": "code",
   "execution_count": null,
   "id": "96f1895d",
   "metadata": {},
   "outputs": [],
   "source": [
    "numerical_cols = X_train.select_dtypes(include=np.number).columns\n",
    "\n",
    "plt.figure(figsize=(15, 10))\n",
    "for i, col in enumerate(numerical_cols):\n",
    "    plt.subplot(5, 6, i + 1)\n",
    "    sns.boxplot(y=X_train[col])\n",
    "    plt.title(col)\n",
    "    plt.tight_layout()\n",
    "plt.show()"
   ]
  },
  {
   "cell_type": "code",
   "execution_count": null,
   "id": "ef55986c",
   "metadata": {},
   "outputs": [],
   "source": [
    "# Handle Outliers\n",
    "for col in numerical_cols:\n",
    "    Q1 = X_train[col].quantile(0.25)\n",
    "    Q3 = X_train[col].quantile(0.75)\n",
    "    IQR = Q3 - Q1\n",
    "\n",
    "    lower_bound = Q1 - 1.5 * IQR\n",
    "    upper_bound = Q3 + 1.5 * IQR\n",
    "\n",
    "    X_train[col] = X_train[col].clip(lower=lower_bound, upper=upper_bound)"
   ]
  },
  {
   "cell_type": "code",
   "execution_count": null,
   "id": "202f03fa",
   "metadata": {},
   "outputs": [],
   "source": [
    "# Check after outlier handling\n",
    "plt.figure(figsize=(15, 10))\n",
    "for i, col in enumerate(numerical_cols):\n",
    "    plt.subplot(5, 6, i + 1)\n",
    "    sns.boxplot(y=X_train[col])\n",
    "    plt.title(col)\n",
    "    plt.tight_layout()\n",
    "plt.show()"
   ]
  },
  {
   "cell_type": "markdown",
   "id": "9a223f42-22be-477b-91db-9f770d03f36a",
   "metadata": {
    "id": "9a223f42-22be-477b-91db-9f770d03f36a",
    "jp-MarkdownHeadingCollapsed": true
   },
   "source": [
    "### Transformasi (Erick)"
   ]
  },
  {
   "cell_type": "markdown",
   "id": "3229f9d6-562d-4d08-a7d3-71863d0d206c",
   "metadata": {
    "id": "3229f9d6-562d-4d08-a7d3-71863d0d206c"
   },
   "source": [
    "#### *Log Transform*"
   ]
  },
  {
   "cell_type": "markdown",
   "id": "70c5653e-085e-40b6-ab67-78223b023a53",
   "metadata": {
    "id": "70c5653e-085e-40b6-ab67-78223b023a53"
   },
   "source": [
    "#### *Standardize*"
   ]
  },
  {
   "cell_type": "markdown",
   "id": "e3a4a6e1-b325-4fbc-8704-e332ad790cc0",
   "metadata": {
    "id": "e3a4a6e1-b325-4fbc-8704-e332ad790cc0"
   },
   "source": [
    "#### *Normalize*"
   ]
  },
  {
   "cell_type": "markdown",
   "id": "0d16df6d-dc82-4719-8797-fa1ea2417ecd",
   "metadata": {
    "id": "0d16df6d-dc82-4719-8797-fa1ea2417ecd"
   },
   "source": [
    "### Encoding (Bila Perlu) (Erick)"
   ]
  },
  {
   "cell_type": "markdown",
   "id": "7211f248-bb45-471a-9d0c-77a8eaaf6771",
   "metadata": {
    "id": "7211f248-bb45-471a-9d0c-77a8eaaf6771"
   },
   "source": [
    "### Preprocessing Pipeline (Perlu Discusi dengan Mentor)"
   ]
  },
  {
   "cell_type": "markdown",
   "id": "661e63ba-0809-4775-a7e2-9904a274bd96",
   "metadata": {
    "id": "661e63ba-0809-4775-a7e2-9904a274bd96"
   },
   "source": [
    "### Imbalance Handling (Hanay data Train) (Erick)"
   ]
  },
  {
   "cell_type": "markdown",
   "id": "8bd65896-22a0-499f-8a87-fbc66ee2fce1",
   "metadata": {
    "id": "8bd65896-22a0-499f-8a87-fbc66ee2fce1"
   },
   "source": [
    "## Modeling"
   ]
  },
  {
   "cell_type": "markdown",
   "id": "6dc7ce16-c6a8-4a5d-97f7-164502e8f648",
   "metadata": {
    "id": "6dc7ce16-c6a8-4a5d-97f7-164502e8f648"
   },
   "source": [
    "### Library For Modeling"
   ]
  },
  {
   "cell_type": "markdown",
   "id": "c0a0350d-1ba6-4696-8ae2-6ab354d510fc",
   "metadata": {
    "id": "c0a0350d-1ba6-4696-8ae2-6ab354d510fc"
   },
   "source": [
    "### Train (.fit) And Predict (.predict) Baseline Model"
   ]
  },
  {
   "cell_type": "markdown",
   "id": "32229a0a-e5df-4e7d-854a-acb8cd9676f8",
   "metadata": {
    "id": "32229a0a-e5df-4e7d-854a-acb8cd9676f8"
   },
   "source": [
    "### Hyperparameter Tunning"
   ]
  },
  {
   "cell_type": "markdown",
   "id": "0b60bc2c-f35c-43e9-9e80-b39a2088c9f5",
   "metadata": {
    "id": "0b60bc2c-f35c-43e9-9e80-b39a2088c9f5"
   },
   "source": [
    "### Final Model"
   ]
  },
  {
   "cell_type": "markdown",
   "id": "985d8160-b978-4974-b632-880e60ebb1e1",
   "metadata": {
    "id": "985d8160-b978-4974-b632-880e60ebb1e1"
   },
   "source": [
    "## Model Evaluation"
   ]
  },
  {
   "cell_type": "markdown",
   "id": "6b5dedea-f774-4704-aa43-92e9c319c4e1",
   "metadata": {
    "id": "6b5dedea-f774-4704-aa43-92e9c319c4e1"
   },
   "source": [
    "### Test the Prediction of Final Model"
   ]
  },
  {
   "cell_type": "markdown",
   "id": "dc287dec-78a2-4d67-ac7d-7178135f3f6d",
   "metadata": {
    "id": "dc287dec-78a2-4d67-ac7d-7178135f3f6d"
   },
   "source": [
    "### Evaluation Metrics"
   ]
  },
  {
   "cell_type": "markdown",
   "id": "7b74967e-9211-41cc-aec7-7936d398dea1",
   "metadata": {
    "id": "7b74967e-9211-41cc-aec7-7936d398dea1"
   },
   "source": [
    "### Visualitasion Actual vs Prediction (if needed)"
   ]
  },
  {
   "cell_type": "code",
   "execution_count": null,
   "id": "832070e9-f2d1-4a8f-9159-8f83997aef41",
   "metadata": {
    "id": "832070e9-f2d1-4a8f-9159-8f83997aef41"
   },
   "outputs": [],
   "source": []
  }
 ],
 "metadata": {
  "colab": {
   "provenance": []
  },
  "kernelspec": {
   "display_name": "Python [conda env:base] *",
   "language": "python",
   "name": "conda-base-py"
  },
  "language_info": {
   "codemirror_mode": {
    "name": "ipython",
    "version": 3
   },
   "file_extension": ".py",
   "mimetype": "text/x-python",
   "name": "python",
   "nbconvert_exporter": "python",
   "pygments_lexer": "ipython3",
   "version": "3.12.7"
  }
 },
 "nbformat": 4,
 "nbformat_minor": 5
}
