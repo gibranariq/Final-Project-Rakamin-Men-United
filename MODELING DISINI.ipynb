{
 "cells": [
  {
   "cell_type": "markdown",
   "id": "75af35ed-a01a-413c-b336-dea3c08345a3",
   "metadata": {},
   "source": [
    "# IMPORT DATA DAN LIBRARY"
   ]
  },
  {
   "cell_type": "code",
   "execution_count": 43,
   "id": "bf07e7ac-c1fe-411c-a25b-d983de9e04c3",
   "metadata": {},
   "outputs": [],
   "source": [
    "import numpy as np\n",
    "import pandas as pd\n",
    "\n",
    "# split & CV\n",
    "from sklearn.model_selection import train_test_split, StratifiedKFold, cross_val_score\n",
    "\n",
    "# base & transformers\n",
    "from sklearn.base import BaseEstimator, TransformerMixin\n",
    "from sklearn.compose import ColumnTransformer, make_column_selector as selector\n",
    "from sklearn.preprocessing import OneHotEncoder, StandardScaler\n",
    "\n",
    "# imbalanced\n",
    "from imblearn.over_sampling import SMOTE\n",
    "from imblearn.pipeline import Pipeline as ImbPipeline\n",
    "from imblearn.combine import SMOTETomek\n",
    "\n",
    "# model & metrics \n",
    "from sklearn.ensemble import RandomForestClassifier\n",
    "from sklearn.metrics import classification_report, roc_auc_score"
   ]
  },
  {
   "cell_type": "code",
   "execution_count": 10,
   "id": "3c78126b-29d4-4816-9343-532c7c93a242",
   "metadata": {},
   "outputs": [],
   "source": [
    "df = pd.read_csv('DataFrame_processed/DataFrame_processed.csv')"
   ]
  },
  {
   "cell_type": "code",
   "execution_count": 13,
   "id": "b6f0a4d7-ed14-4510-b56b-060783915a4c",
   "metadata": {},
   "outputs": [],
   "source": [
    "X = df.drop(columns=[\"Attrition\"])\n",
    "y = df[\"Attrition\"]\n",
    "X_train, X_test, y_train, y_test = train_test_split(\n",
    "    X, y, test_size=0.2, stratify=y, random_state=42\n",
    ")"
   ]
  },
  {
   "cell_type": "markdown",
   "id": "1dc883bb-bee5-42b5-8c2d-8749b2f9233a",
   "metadata": {},
   "source": [
    "# PIPELINE FULL"
   ]
  },
  {
   "cell_type": "code",
   "execution_count": 45,
   "id": "48202096-8904-44c3-baad-2aa8dbdc9d42",
   "metadata": {},
   "outputs": [],
   "source": [
    "# pipeline transformasi\n",
    "prep = ColumnTransformer(\n",
    "    transformers=[\n",
    "        (\"num\", StandardScaler(), selector(dtype_include=np.number)),\n",
    "        (\"cat\", OneHotEncoder(handle_unknown=\"ignore\", sparse_output=False), selector(dtype_exclude=np.number)),\n",
    "    ],\n",
    "    remainder=\"drop\"\n",
    ")\n",
    "\n",
    "# full preprocessing pipeline\n",
    "pipe = ImbPipeline(steps=[\n",
    "    (\"prep\", prep),\n",
    "    (\"smote\", SMOTETomek(random_state=42)),\n",
    "    (\"clf\", RandomForestClassifier(n_estimators=400, random_state=42, n_jobs=-1)) # bisa tambah ata ganti model lain \n",
    "])"
   ]
  },
  {
   "cell_type": "markdown",
   "id": "2109d5ee-84e2-4881-a70b-9881945b5958",
   "metadata": {},
   "source": [
    "> ## Untuk output score"
   ]
  },
  {
   "cell_type": "code",
   "execution_count": 47,
   "id": "fd865eae-1c0b-4787-8ed8-37457f2a95b5",
   "metadata": {},
   "outputs": [
    {
     "name": "stdout",
     "output_type": "stream",
     "text": [
      "\n",
      "=== TEST REPORT ===\n",
      "              precision    recall  f1-score   support\n",
      "\n",
      "           0     0.8856    0.9717    0.9266       247\n",
      "           1     0.6957    0.3404    0.4571        47\n",
      "\n",
      "    accuracy                         0.8707       294\n",
      "   macro avg     0.7906    0.6560    0.6919       294\n",
      "weighted avg     0.8552    0.8707    0.8516       294\n",
      "\n",
      "Test ROC-AUC: 0.8154\n"
     ]
    }
   ],
   "source": [
    "# Silakan di copas \n",
    "pipe.fit(X_train, y_train)\n",
    "y_pred  = pipe.predict(X_test)\n",
    "y_proba = pipe.predict_proba(X_test)[:, 1]\n",
    "print(\"\\n=== TEST REPORT ===\")\n",
    "print(classification_report(y_test, y_pred, digits=4))\n",
    "print(\"Test ROC-AUC:\", roc_auc_score(y_test, y_proba).round(4))"
   ]
  },
  {
   "cell_type": "markdown",
   "id": "d7286aea-1665-4aaa-991e-370ff4dc77e3",
   "metadata": {},
   "source": [
    "---"
   ]
  },
  {
   "cell_type": "markdown",
   "id": "e321b351-d3fe-40f4-bfc3-d2a2e3c8b526",
   "metadata": {},
   "source": [
    "---"
   ]
  },
  {
   "cell_type": "markdown",
   "id": "70474b5c-f68a-4b42-9253-5ea5d94bfac1",
   "metadata": {},
   "source": [
    "# Model 1 - Logistic Regression"
   ]
  },
  {
   "cell_type": "code",
   "execution_count": 64,
   "id": "bdbc1153-7426-48d8-936b-a7bd14d269c3",
   "metadata": {},
   "outputs": [],
   "source": [
    "from sklearn.linear_model import LogisticRegression\n",
    "\n",
    "logreg = LogisticRegression(random_state=42)\n",
    "\n",
    "pipe_log_reg = ImbPipeline(steps=[\n",
    "    (\"prep\", prep),\n",
    "    (\"smote\", SMOTETomek(random_state=42)),\n",
    "    (\"clf\", logreg)\n",
    "])"
   ]
  },
  {
   "cell_type": "code",
   "execution_count": 74,
   "id": "7ea555b2-a78b-420b-8ebb-340c5a1ca7aa",
   "metadata": {},
   "outputs": [
    {
     "name": "stdout",
     "output_type": "stream",
     "text": [
      "\n",
      "=== TEST REPORT ===\n",
      "              precision    recall  f1-score   support\n",
      "\n",
      "           0     0.9317    0.7733    0.8451       247\n",
      "           1     0.3708    0.7021    0.4853        47\n",
      "\n",
      "    accuracy                         0.7619       294\n",
      "   macro avg     0.6512    0.7377    0.6652       294\n",
      "weighted avg     0.8420    0.7619    0.7876       294\n",
      "\n",
      "Test ROC-AUC: 0.7941\n"
     ]
    }
   ],
   "source": [
    "pipe_log_reg.fit(X_train, y_train)\n",
    "y_pred  = pipe_log_reg.predict(X_test)\n",
    "y_proba = pipe_log_reg.predict_proba(X_test)[:, 1]\n",
    "print(\"\\n=== TEST REPORT ===\")\n",
    "print(classification_report(y_test, y_pred, digits=4))\n",
    "print(\"Test ROC-AUC:\", roc_auc_score(y_test, y_proba).round(4))"
   ]
  },
  {
   "cell_type": "markdown",
   "id": "9c8cc8ff-e327-47c3-8b0a-95a6e7cbfa0e",
   "metadata": {},
   "source": [
    "> ## HyperParameter Tuning"
   ]
  },
  {
   "cell_type": "markdown",
   "id": "15b54311-6bbd-4d82-aada-2451a335654b",
   "metadata": {},
   "source": [
    "# Model 2 - Decision Tree Classifier"
   ]
  },
  {
   "cell_type": "code",
   "execution_count": 66,
   "id": "f8317c1d-7767-450d-8d22-644a26fe984a",
   "metadata": {},
   "outputs": [],
   "source": [
    "from sklearn.tree import DecisionTreeClassifier\n",
    "\n",
    "dec_tree_clf = DecisionTreeClassifier(random_state=42)\n",
    "\n",
    "pipe_tree = ImbPipeline(steps=[\n",
    "    (\"prep\", prep),\n",
    "    (\"smote\", SMOTETomek(random_state=42)),\n",
    "    (\"clf\", dec_tree_clf)\n",
    "])"
   ]
  },
  {
   "cell_type": "code",
   "execution_count": 76,
   "id": "4909e814-e2df-45ba-882a-1ae7592098b8",
   "metadata": {},
   "outputs": [
    {
     "name": "stdout",
     "output_type": "stream",
     "text": [
      "\n",
      "=== TEST REPORT ===\n",
      "              precision    recall  f1-score   support\n",
      "\n",
      "           0     0.8577    0.8300    0.8436       247\n",
      "           1     0.2364    0.2766    0.2549        47\n",
      "\n",
      "    accuracy                         0.7415       294\n",
      "   macro avg     0.5471    0.5533    0.5493       294\n",
      "weighted avg     0.7584    0.7415    0.7495       294\n",
      "\n",
      "Test ROC-AUC: 0.5533\n"
     ]
    }
   ],
   "source": [
    "pipe_tree.fit(X_train, y_train)\n",
    "y_pred  = pipe_tree.predict(X_test)\n",
    "y_proba = pipe_tree.predict_proba(X_test)[:, 1]\n",
    "print(\"\\n=== TEST REPORT ===\")\n",
    "print(classification_report(y_test, y_pred, digits=4))\n",
    "print(\"Test ROC-AUC:\", roc_auc_score(y_test, y_proba).round(4))"
   ]
  },
  {
   "cell_type": "markdown",
   "id": "de4eaead-5b5b-43a6-9bfa-df727153fad4",
   "metadata": {},
   "source": [
    "> ## HyperParameter Tuning"
   ]
  },
  {
   "cell_type": "markdown",
   "id": "335757fd-efc8-43a7-9dca-90b55088373f",
   "metadata": {},
   "source": [
    "# Model 3 - Bagging Classifier"
   ]
  },
  {
   "cell_type": "code",
   "execution_count": 70,
   "id": "d3324153-d738-4a55-8eb4-4421d304bbc0",
   "metadata": {},
   "outputs": [],
   "source": [
    "from sklearn.ensemble import BaggingClassifier\n",
    "\n",
    "bagging_base = BaggingClassifier(random_state=42)\n",
    "\n",
    "pipe_bagging = ImbPipeline(steps=[\n",
    "    (\"prep\", prep),\n",
    "    (\"smote\", SMOTETomek(random_state=42)),\n",
    "    (\"clf\", bagging_base)\n",
    "])"
   ]
  },
  {
   "cell_type": "code",
   "execution_count": 78,
   "id": "617d79d3-0e1f-42b0-8166-450b1df97e97",
   "metadata": {},
   "outputs": [
    {
     "name": "stdout",
     "output_type": "stream",
     "text": [
      "\n",
      "=== TEST REPORT ===\n",
      "              precision    recall  f1-score   support\n",
      "\n",
      "           0     0.8889    0.9393    0.9134       247\n",
      "           1     0.5455    0.3830    0.4500        47\n",
      "\n",
      "    accuracy                         0.8503       294\n",
      "   macro avg     0.7172    0.6611    0.6817       294\n",
      "weighted avg     0.8340    0.8503    0.8393       294\n",
      "\n",
      "Test ROC-AUC: 0.7865\n"
     ]
    }
   ],
   "source": [
    "pipe_bagging.fit(X_train, y_train)\n",
    "y_pred  = pipe_bagging.predict(X_test)\n",
    "y_proba = pipe_bagging.predict_proba(X_test)[:, 1]\n",
    "print(\"\\n=== TEST REPORT ===\")\n",
    "print(classification_report(y_test, y_pred, digits=4))\n",
    "print(\"Test ROC-AUC:\", roc_auc_score(y_test, y_proba).round(4))"
   ]
  },
  {
   "cell_type": "markdown",
   "id": "6488bb0b-fa8e-453c-9154-a19ccb7b728d",
   "metadata": {},
   "source": [
    "> ## HyperParameter Tuning"
   ]
  },
  {
   "cell_type": "markdown",
   "id": "7cfb272e-88ff-4455-9460-9a7ebaf9194f",
   "metadata": {},
   "source": [
    "# Model 4 - Ada Boost Classifier "
   ]
  },
  {
   "cell_type": "code",
   "execution_count": 86,
   "id": "82ff5572-09c4-4cd2-9850-3b9bf4272c8d",
   "metadata": {},
   "outputs": [],
   "source": [
    "from sklearn.ensemble import AdaBoostClassifier\n",
    "\n",
    "best_estimator = DecisionTreeClassifier(random_state=42)\n",
    "boost_model = AdaBoostClassifier(estimator= best_estimator,algorithm='SAMME',random_state=42)\n",
    "pipe_boost = ImbPipeline(steps=[\n",
    "    (\"prep\", prep),\n",
    "    (\"smote\", SMOTETomek(random_state=42)),\n",
    "    (\"clf\", boost_model) \n",
    "])"
   ]
  },
  {
   "cell_type": "code",
   "execution_count": 88,
   "id": "2a57147e-108f-4507-b2d4-59602736a977",
   "metadata": {},
   "outputs": [
    {
     "name": "stdout",
     "output_type": "stream",
     "text": [
      "\n",
      "=== TEST REPORT ===\n",
      "              precision    recall  f1-score   support\n",
      "\n",
      "           0     0.8689    0.8583    0.8635       247\n",
      "           1     0.3000    0.3191    0.3093        47\n",
      "\n",
      "    accuracy                         0.7721       294\n",
      "   macro avg     0.5844    0.5887    0.5864       294\n",
      "weighted avg     0.7779    0.7721    0.7749       294\n",
      "\n",
      "Test ROC-AUC: 0.5887\n"
     ]
    }
   ],
   "source": [
    "pipe_boost.fit(X_train, y_train)\n",
    "y_pred  = pipe_boost.predict(X_test)\n",
    "y_proba = pipe_boost.predict_proba(X_test)[:, 1]\n",
    "print(\"\\n=== TEST REPORT ===\")\n",
    "print(classification_report(y_test, y_pred, digits=4))\n",
    "print(\"Test ROC-AUC:\", roc_auc_score(y_test, y_proba).round(4))"
   ]
  },
  {
   "cell_type": "markdown",
   "id": "d4c2335d-058c-4f60-8edd-5054cf58e238",
   "metadata": {},
   "source": [
    "> ## HyperParameter Tuning"
   ]
  },
  {
   "cell_type": "markdown",
   "id": "0fa7080e-58eb-445e-af16-c6bf5e58d9d3",
   "metadata": {
    "jp-MarkdownHeadingCollapsed": true
   },
   "source": [
    "# Model 5 - Ensemble Stacking"
   ]
  },
  {
   "cell_type": "markdown",
   "id": "890ca755-6660-4277-8385-4f3330092161",
   "metadata": {},
   "source": [
    "> ## HyperParameter Tuning"
   ]
  },
  {
   "cell_type": "code",
   "execution_count": null,
   "id": "c3e85a10-2803-4d8b-a236-303ad17d77d7",
   "metadata": {},
   "outputs": [],
   "source": []
  }
 ],
 "metadata": {
  "kernelspec": {
   "display_name": "Python [conda env:base] *",
   "language": "python",
   "name": "conda-base-py"
  },
  "language_info": {
   "codemirror_mode": {
    "name": "ipython",
    "version": 3
   },
   "file_extension": ".py",
   "mimetype": "text/x-python",
   "name": "python",
   "nbconvert_exporter": "python",
   "pygments_lexer": "ipython3",
   "version": "3.12.7"
  }
 },
 "nbformat": 4,
 "nbformat_minor": 5
}
